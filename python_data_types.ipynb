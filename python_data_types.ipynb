{
  "nbformat": 4,
  "nbformat_minor": 0,
  "metadata": {
    "colab": {
      "provenance": []
    },
    "kernelspec": {
      "name": "python3",
      "display_name": "Python 3"
    },
    "language_info": {
      "name": "python"
    }
  },
  "cells": [
    {
      "cell_type": "markdown",
      "source": [
        "#Python Data Types and Structures Assignment"
      ],
      "metadata": {
        "id": "4TN8Wc6GzVuI"
      }
    },
    {
      "cell_type": "markdown",
      "source": [
        "**Theory Questions**"
      ],
      "metadata": {
        "id": "Qe0Si_zYxGlX"
      }
    },
    {
      "cell_type": "markdown",
      "source": [
        "1. What are data structures, and why are they important?\n",
        "  * Data structures are ways of organizing and storing data in memory.\n",
        "  * Importance: They help manage large data efficiently, optimize code performance, and enable faster data retrieval and manipulation"
      ],
      "metadata": {
        "id": "TU347VyqxQ63"
      }
    },
    {
      "cell_type": "markdown",
      "source": [
        "2. Explain the difference between mutable and immutable data types with examples.\n",
        "  * Mutable: Can be changed after creation. Example: list, dict, set.\n",
        "\n",
        "  * Immutable: Cannot be changed after creation. Example: tuple, string."
      ],
      "metadata": {
        "id": "7grr84xYxwSx"
      }
    },
    {
      "cell_type": "code",
      "source": [
        "# Mutable\n",
        "l = [1, 2, 3]\n",
        "l.append(4)  # Modified\n",
        "\n",
        "# Immutable\n",
        "s = \"Hello\"\n",
        "# s[0] = 'h' Not allowed\n"
      ],
      "metadata": {
        "id": "C5OfDFa2x_wu"
      },
      "execution_count": null,
      "outputs": []
    },
    {
      "cell_type": "markdown",
      "source": [
        "3. What are the main differences between lists and tuples in Python?\n",
        " * The main differences between lists and tuples in Python are:\n",
        "Mutability: This is the most significant distinction. Lists are mutable, meaning their elements can be changed (added, removed, or modified) after creation. Tuples are immutable, meaning their contents cannot be altered once defined.\n"
      ],
      "metadata": {
        "id": "PjTjiHWyyGPX"
      }
    },
    {
      "cell_type": "markdown",
      "source": [
        "4. How dictionaries store data\n",
        "\n",
        "  * Dictionaries use hash tables internally.\n",
        "  * They store data as key-value pairs.\n",
        "  * Keys must be hashable (immutable)."
      ],
      "metadata": {
        "id": "BkZfNQTyyk3o"
      }
    },
    {
      "cell_type": "markdown",
      "source": [
        "5. Why might you use a set instead of a list in Python?\n",
        "  * Sets automatically remove duplicates.\n",
        "  * Membership checks (in) are faster in sets (O(1)) vs lists (O(n)).\n",
        "\n",
        "6. What is a string in Python, and how is it different from a list?\n",
        "  * A string is a sequence of characters (immutable).\n",
        "  * A list is a collection of elements (mutable).\n",
        "\n",
        "7. How do tuples ensure data integrity in Python?\n",
        "  * Tuples are immutable → once created, values cannot change → ensures integrity.\n",
        "\n",
        "8. What is a hash table, and how does it relate to dictionaries in Python?\n",
        "  * A hash table stores data using a hash function to map keys → index.\n",
        "  * Python dictionaries use hash tables internally.\n",
        "\n",
        "9. Can lists contain different data types in Python?\n",
        "  * Yes. Example: [1, \"hello\", 3.5, True].\n",
        "\n",
        "10. Explain why strings are immutable in Python\n",
        "  * For memory efficiency and security.\n",
        "  * Allows safe sharing across programs and optimizations like interning.\n",
        "\n",
        "11. What advantages do dictionaries offer over lists for certain tasks?\n",
        "  * Fast key-based lookups (O(1)).\n",
        "  * Better for mapping relationships (name → age).\n",
        "\n",
        "12. Describe a scenario where using a tuple would be preferable over a list\n",
        "  * When data must not change (e.g., GPS coordinates, configuration constants).\n",
        "\n",
        "13. How do sets handle duplicate values in Python?\n",
        "  * It Automatically remove duplicates.\n",
        "\n",
        "14. How does the “in” keyword work differently for lists and dictionaries?\n",
        "  * List: checks for element presence.\n",
        "  * Dict: checks for key presence.\n",
        "\n",
        "15. Can you modify the elements of a tuple? Explain why or why not?\n",
        "  * No tuples are immutable.\n",
        "\n",
        "16. What is a nested dictionary, and give an example of its use case?\n",
        "  * A dictionary inside another dictionary.\n",
        "\n",
        "17. Describe the time complexity of accessing elements in a dictionary\n",
        "  * O(1) average (due to hash table).\n",
        "\n",
        "18. In what situations are lists preferred over dictionaries\n",
        "  * When order matters or duplicate values are needed.\n",
        "\n",
        "19. Why are dictionaries considered unordered, and how does that affect data retrieval?\n",
        "  * Before Python 3.7, dicts didn’t guarantee order.\n",
        "  * Now they preserve insertion order, but logically still accessed by keys, not position.\n",
        "\n",
        "20. Explain the difference between a list and a dictionary in terms of data retrieval.\n",
        "  * List: accessed by index\n",
        "  * Dict: accessed by key"
      ],
      "metadata": {
        "id": "L95IWxdHy11H"
      }
    },
    {
      "cell_type": "markdown",
      "source": [
        "**Practical Questions**"
      ],
      "metadata": {
        "id": "SdcosNxM18ho"
      }
    },
    {
      "cell_type": "code",
      "source": [
        "# 1. Write a code to create a string with your name and print it\n",
        "name = \"Atrija\"\n",
        "print(name)\n",
        "\n",
        "# 2. Write a code to find the length of the string \"Hello World\"\n",
        "print(len(\"Hello World\"))\n",
        "\n",
        "# 3. Write a code to slice the first 3 characters from the string \"Python Programming\"\n",
        "s = \"Python Programming\"\n",
        "print(s[:3])\n",
        "\n",
        "# 4. Write a code to convert the string \"hello\" to uppercase\n",
        "print(\"hello\".upper())\n",
        "\n",
        "# 5. Write a code to replace the word \"apple\" with \"orange\" in the string \"I like apple\"\n",
        "print(\"I like apple\".replace(\"apple\", \"orange\"))\n",
        "\n",
        "# 6. Write a code to create a list with numbers 1 to 5 and print it\n",
        "lst = [1, 2, 3, 4, 5]\n",
        "print(lst)\n",
        "\n",
        "# 7.  Write a code to append the number 10 to the list [1, 2, 3, 4]\n",
        "lst = [1, 2, 3, 4]\n",
        "lst.append(10)\n",
        "print(lst)\n",
        "\n",
        "# 8. Write a code to remove the number 3 from the list [1, 2, 3, 4, 5]\n",
        "lst = [1, 2, 3, 4, 5]\n",
        "lst.remove(3)\n",
        "print(lst)\n",
        "\n",
        "# 9. Write a code to access the second element in the list ['a', 'b', 'c', 'd']\n",
        "print(['a','b','c','d'][1])\n",
        "\n",
        "# 10.  Write a code to reverse the list [10, 20, 30, 40, 50].\n",
        "lst = [10,20,30,40,50]\n",
        "lst.reverse()\n",
        "print(lst)\n",
        "\n",
        "# 11. Write a code to create a tuple with the elements 100, 200, 300 and print it.\n",
        "t = (100,200,300)\n",
        "print(t)\n",
        "\n",
        "# 12. Write a code to access the second-to-last element of the tuple ('red', 'green', 'blue', 'yellow').\n",
        "t = ('red','green','blue','yellow')\n",
        "print(t[-2])\n",
        "\n",
        "# 13. Write a code to find the minimum number in the tuple (10, 20, 5, 15).\n",
        "t = (10,20,5,15)\n",
        "print(min(t))\n",
        "\n",
        "# 14.  Write a code to find the index of the element \"cat\" in the tuple ('dog', 'cat', 'rabbit')\n",
        "t = ('dog','cat','rabbit')\n",
        "print(t.index(\"cat\"))\n",
        "\n",
        "# 15. Write a code to create a tuple containing three different fruits and check if \"kiwi\" is in it\n",
        "fruits = (\"apple\",\"banana\",\"mango\")\n",
        "print(\"kiwi\" in fruits)\n",
        "\n",
        "# 16.  Write a code to create a set with the elements 'a', 'b', 'c' and print it.\n",
        "s = {'a','b','c'}\n",
        "print(s)\n",
        "\n",
        "# 17. Write a code to clear all elements from the set {1, 2, 3, 4, 5}.\n",
        "s = {1,2,3,4,5}\n",
        "s.clear()\n",
        "print(s)\n",
        "\n",
        "# 18. Write a code to remove the element 4 from the set {1, 2, 3, 4}\n",
        "s = {1,2,3,4}\n",
        "s.remove(4)\n",
        "print(s)\n",
        "\n",
        "# 19.  Write a code to find the union of two sets {1, 2, 3} and {3, 4, 5}.\n",
        "print({1,2,3} | {3,4,5})\n",
        "\n",
        "# 20. Write a code to find the intersection of two sets {1, 2, 3} and {2, 3, 4}.\n",
        "print({1,2,3} & {2,3,4})\n",
        "\n",
        "# 21. Write a code to create a dictionary with the keys \"name\", \"age\", and \"city\", and print it.\n",
        "d = {\"name\":\"John\",\"age\":25,\"city\":\"NY\"}\n",
        "print(d)\n",
        "\n",
        "# 22. Write a code to add a new key-value pair \"country\": \"USA\" to the dictionary {'name': 'John', 'age': 25}.\n",
        "d = {'name':'John','age':25}\n",
        "d[\"country\"] = \"USA\"\n",
        "print(d)\n",
        "\n",
        "# 23. Write a code to access the value associated with the key \"name\" in the dictionary {'name': 'Alice', 'age': 30}.\n",
        "print({'name':'Alice','age':30}[\"name\"])\n",
        "\n",
        "# 24. Write a code to remove the key \"age\" from the dictionary {'name': 'Bob', 'age': 22, 'city': 'New York'}.\n",
        "d = {'name':'Bob','age':22,'city':'New York'}\n",
        "d.pop(\"age\")\n",
        "print(d)\n",
        "\n",
        "# 25.  Write a code to check if the key \"city\" exists in the dictionary {'name': 'Alice', 'city': 'Paris'}.\n",
        "d = {'name':'Alice','city':'Paris'}\n",
        "print(\"city\" in d)\n",
        "\n",
        "# 26. Write a code to create a list, a tuple, and a dictionary, and print them all.\n",
        "print([1,2,3], (4,5,6), {\"a\":1,\"b\":2})\n",
        "\n",
        "# 27.  Write a code to create a list of 5 random numbers between 1 and 100, sort it in ascending order, and print the result.(replaced)\n",
        "import random\n",
        "lst = random.sample(range(1,101), 5)\n",
        "lst.sort()\n",
        "print(lst)\n",
        "\n",
        "# 28. Write a code to create a list with strings and print the element at the third index.\n",
        "lst = [\"apple\",\"banana\",\"cherry\",\"date\"]\n",
        "print(lst[3])\n",
        "\n",
        "# 29. Write a code to combine two dictionaries into one and print the result.\n",
        "d1 = {\"a\":1,\"b\":2}\n",
        "d2 = {\"c\":3,\"d\":4}\n",
        "d1.update(d2)\n",
        "print(d1)\n",
        "\n",
        "# 30. Write a code to convert a list of strings into a set.\n",
        "lst = [\"apple\",\"banana\",\"apple\"]\n",
        "print(set(lst))\n"
      ],
      "metadata": {
        "id": "QxnNTxW02K6v"
      },
      "execution_count": null,
      "outputs": []
    }
  ]
}